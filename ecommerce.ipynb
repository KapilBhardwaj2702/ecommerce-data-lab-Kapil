{
 "cells": [
  {
   "cell_type": "code",
   "execution_count": 6,
   "id": "28bf0d01",
   "metadata": {},
   "outputs": [
    {
     "data": {
      "application/vnd.microsoft.datawrangler.viewer.v0+json": {
       "columns": [
        {
         "name": "index",
         "rawType": "int64",
         "type": "integer"
        },
        {
         "name": "Order_Date",
         "rawType": "object",
         "type": "string"
        },
        {
         "name": "Time",
         "rawType": "object",
         "type": "string"
        },
        {
         "name": "Aging",
         "rawType": "float64",
         "type": "float"
        },
        {
         "name": "Customer_Id",
         "rawType": "int64",
         "type": "integer"
        },
        {
         "name": "Gender",
         "rawType": "object",
         "type": "string"
        },
        {
         "name": "Device_Type",
         "rawType": "object",
         "type": "string"
        },
        {
         "name": "Customer_Login_type",
         "rawType": "object",
         "type": "string"
        },
        {
         "name": "Product_Category",
         "rawType": "object",
         "type": "string"
        },
        {
         "name": "Product",
         "rawType": "object",
         "type": "string"
        },
        {
         "name": "Sales",
         "rawType": "float64",
         "type": "float"
        },
        {
         "name": "Quantity",
         "rawType": "float64",
         "type": "float"
        },
        {
         "name": "Discount",
         "rawType": "float64",
         "type": "float"
        },
        {
         "name": "Profit",
         "rawType": "float64",
         "type": "float"
        },
        {
         "name": "Shipping_Cost",
         "rawType": "float64",
         "type": "float"
        },
        {
         "name": "Order_Priority",
         "rawType": "object",
         "type": "string"
        },
        {
         "name": "Payment_method",
         "rawType": "object",
         "type": "string"
        },
        {
         "name": "shipping_city",
         "rawType": "object",
         "type": "string"
        }
       ],
       "ref": "cf7080d2-e858-4809-921a-bbfeb3ab5805",
       "rows": [
        [
         "0",
         "2018-01-02",
         "10:56:33",
         "8.0",
         "37077",
         "Female",
         "Web",
         "Member",
         "Auto & Accessories",
         "Car Media Players",
         "140.0",
         "1.0",
         "0.3",
         "46.0",
         "4.6",
         "Medium",
         "credit_card",
         "Montreal"
        ],
        [
         "1",
         "2018-07-24",
         "20:41:37",
         "2.0",
         "59173",
         "Female",
         "Web",
         "Member",
         "Auto & Accessories",
         "Car Speakers",
         "211.0",
         "1.0",
         "0.3",
         "112.0",
         "11.2",
         "Medium",
         "credit_card",
         "Calgary"
        ],
        [
         "2",
         "2018-11-08",
         "08:38:49",
         "8.0",
         "41066",
         "Female",
         "Web",
         "Member",
         "Auto & Accessories",
         "Car Body Covers",
         "117.0",
         "5.0",
         "0.1",
         "31.2",
         "3.1",
         "Critical",
         "credit_card",
         "Vancouver"
        ]
       ],
       "shape": {
        "columns": 17,
        "rows": 3
       }
      },
      "text/html": [
       "<div>\n",
       "<style scoped>\n",
       "    .dataframe tbody tr th:only-of-type {\n",
       "        vertical-align: middle;\n",
       "    }\n",
       "\n",
       "    .dataframe tbody tr th {\n",
       "        vertical-align: top;\n",
       "    }\n",
       "\n",
       "    .dataframe thead th {\n",
       "        text-align: right;\n",
       "    }\n",
       "</style>\n",
       "<table border=\"1\" class=\"dataframe\">\n",
       "  <thead>\n",
       "    <tr style=\"text-align: right;\">\n",
       "      <th></th>\n",
       "      <th>Order_Date</th>\n",
       "      <th>Time</th>\n",
       "      <th>Aging</th>\n",
       "      <th>Customer_Id</th>\n",
       "      <th>Gender</th>\n",
       "      <th>Device_Type</th>\n",
       "      <th>Customer_Login_type</th>\n",
       "      <th>Product_Category</th>\n",
       "      <th>Product</th>\n",
       "      <th>Sales</th>\n",
       "      <th>Quantity</th>\n",
       "      <th>Discount</th>\n",
       "      <th>Profit</th>\n",
       "      <th>Shipping_Cost</th>\n",
       "      <th>Order_Priority</th>\n",
       "      <th>Payment_method</th>\n",
       "      <th>shipping_city</th>\n",
       "    </tr>\n",
       "  </thead>\n",
       "  <tbody>\n",
       "    <tr>\n",
       "      <th>0</th>\n",
       "      <td>2018-01-02</td>\n",
       "      <td>10:56:33</td>\n",
       "      <td>8.0</td>\n",
       "      <td>37077</td>\n",
       "      <td>Female</td>\n",
       "      <td>Web</td>\n",
       "      <td>Member</td>\n",
       "      <td>Auto &amp; Accessories</td>\n",
       "      <td>Car Media Players</td>\n",
       "      <td>140.0</td>\n",
       "      <td>1.0</td>\n",
       "      <td>0.3</td>\n",
       "      <td>46.0</td>\n",
       "      <td>4.6</td>\n",
       "      <td>Medium</td>\n",
       "      <td>credit_card</td>\n",
       "      <td>Montreal</td>\n",
       "    </tr>\n",
       "    <tr>\n",
       "      <th>1</th>\n",
       "      <td>2018-07-24</td>\n",
       "      <td>20:41:37</td>\n",
       "      <td>2.0</td>\n",
       "      <td>59173</td>\n",
       "      <td>Female</td>\n",
       "      <td>Web</td>\n",
       "      <td>Member</td>\n",
       "      <td>Auto &amp; Accessories</td>\n",
       "      <td>Car Speakers</td>\n",
       "      <td>211.0</td>\n",
       "      <td>1.0</td>\n",
       "      <td>0.3</td>\n",
       "      <td>112.0</td>\n",
       "      <td>11.2</td>\n",
       "      <td>Medium</td>\n",
       "      <td>credit_card</td>\n",
       "      <td>Calgary</td>\n",
       "    </tr>\n",
       "    <tr>\n",
       "      <th>2</th>\n",
       "      <td>2018-11-08</td>\n",
       "      <td>08:38:49</td>\n",
       "      <td>8.0</td>\n",
       "      <td>41066</td>\n",
       "      <td>Female</td>\n",
       "      <td>Web</td>\n",
       "      <td>Member</td>\n",
       "      <td>Auto &amp; Accessories</td>\n",
       "      <td>Car Body Covers</td>\n",
       "      <td>117.0</td>\n",
       "      <td>5.0</td>\n",
       "      <td>0.1</td>\n",
       "      <td>31.2</td>\n",
       "      <td>3.1</td>\n",
       "      <td>Critical</td>\n",
       "      <td>credit_card</td>\n",
       "      <td>Vancouver</td>\n",
       "    </tr>\n",
       "  </tbody>\n",
       "</table>\n",
       "</div>"
      ],
      "text/plain": [
       "   Order_Date      Time  Aging  Customer_Id  Gender Device_Type  \\\n",
       "0  2018-01-02  10:56:33    8.0        37077  Female         Web   \n",
       "1  2018-07-24  20:41:37    2.0        59173  Female         Web   \n",
       "2  2018-11-08  08:38:49    8.0        41066  Female         Web   \n",
       "\n",
       "  Customer_Login_type    Product_Category            Product  Sales  Quantity  \\\n",
       "0              Member  Auto & Accessories  Car Media Players  140.0       1.0   \n",
       "1              Member  Auto & Accessories       Car Speakers  211.0       1.0   \n",
       "2              Member  Auto & Accessories    Car Body Covers  117.0       5.0   \n",
       "\n",
       "   Discount  Profit  Shipping_Cost Order_Priority Payment_method shipping_city  \n",
       "0       0.3    46.0            4.6         Medium    credit_card      Montreal  \n",
       "1       0.3   112.0           11.2         Medium    credit_card       Calgary  \n",
       "2       0.1    31.2            3.1       Critical    credit_card     Vancouver  "
      ]
     },
     "execution_count": 6,
     "metadata": {},
     "output_type": "execute_result"
    }
   ],
   "source": [
    "import pandas as pd\n",
    "import numpy as np\n",
    "\n",
    "\n",
    "# Load data from CSV in 'data/' folder\n",
    "data_path = r\"D:\\Conestoga college\\Ecommerce-data-engineering-lab-kapil\\data\\ecommerce_data.csv\"\n",
    "df = pd.read_csv(data_path)\n",
    "\n",
    "# Show first 3 rows\n",
    "df.head(3)\n"
   ]
  },
  {
   "cell_type": "code",
   "execution_count": 7,
   "id": "25004982",
   "metadata": {},
   "outputs": [],
   "source": [
    "df = pd.read_csv(data_path)\n",
    "df['shipping_city'] = np.random.choice(['Toronto', 'Vancouver', 'Calgary', 'Montreal'], size=len(df))\n",
    "df.to_csv(data_path, index=False)  # Overwrite with new column\n"
   ]
  },
  {
   "cell_type": "markdown",
   "id": "27fbd286",
   "metadata": {},
   "source": [
    "import pandas as pd\n",
    "\n",
    "# Load data from CSV in 'data/' folder\n",
    "data_path = \"data/ecommerce_data.csv\"\n",
    "df = pd.read_csv(data_path)\n",
    "\n",
    "# Show first 3 rows\n",
    "df.head(3)\n"
   ]
  },
  {
   "cell_type": "markdown",
   "id": "f06d5669",
   "metadata": {},
   "source": [
    "Step 3: Transaction Class and OO Data Structure"
   ]
  },
  {
   "cell_type": "code",
   "execution_count": 8,
   "id": "a6682cfd",
   "metadata": {},
   "outputs": [],
   "source": [
    "from datetime import datetime\n",
    "from typing import Optional\n",
    "\n",
    "class Transaction:\n",
    "    def __init__(self, date: str, customer_id: str, product: str, price: float,\n",
    "                 quantity: int, coupon_code: Optional[str], shipping_city: str):\n",
    "        self.date = date\n",
    "        self.customer_id = customer_id\n",
    "        self.product = product\n",
    "        self.price = price\n",
    "        self.quantity = quantity\n",
    "        self.coupon_code = coupon_code\n",
    "        self.shipping_city = shipping_city\n",
    "        \n",
    "    def clean(self):\n",
    "        # Convert date to datetime object\n",
    "        try:\n",
    "            self.date = datetime.strptime(self.date, \"%Y-%m-%d\")\n",
    "        except Exception:\n",
    "            self.date = None\n",
    "        \n",
    "        # Clean price and quantity\n",
    "        if self.price < 0:\n",
    "            self.price = abs(self.price)\n",
    "        if self.quantity < 0:\n",
    "            self.quantity = abs(self.quantity)\n",
    "        \n",
    "        # Normalize coupon_code, convert empty strings to None\n",
    "        if self.coupon_code == \"\" or self.coupon_code is None:\n",
    "            self.coupon_code = None\n",
    "        \n",
    "        # Standardize city names (simple example: strip whitespace)\n",
    "        self.shipping_city = self.shipping_city.strip().title()\n",
    "        \n",
    "    def total_price(self) -> float:\n",
    "        return self.price * self.quantity\n"
   ]
  },
  {
   "cell_type": "markdown",
   "id": "42e0f63d",
   "metadata": {},
   "source": [
    "Step 4: Bulk Loader"
   ]
  },
  {
   "cell_type": "code",
   "execution_count": 9,
   "id": "f4290fdd",
   "metadata": {},
   "outputs": [
    {
     "name": "stdout",
     "output_type": "stream",
     "text": [
      "Skipping row due to error: cannot convert float NaN to integer\n",
      "Skipping row due to error: cannot convert float NaN to integer\n"
     ]
    }
   ],
   "source": [
    "from typing import List\n",
    "\n",
    "def load_transactions(csv_path: str) -> List[Transaction]:\n",
    "    df = pd.read_csv(csv_path)\n",
    "    transactions = []\n",
    "    \n",
    "    for _, row in df.iterrows():\n",
    "        try:\n",
    "            txn = Transaction(\n",
    "                date=row['Order_Date'],\n",
    "                customer_id=str(row['Customer_Id']),\n",
    "                product=row['Product'],\n",
    "                price=float(row['Sales']),\n",
    "                quantity=int(float(row['Quantity'])),  # Handles \"3.0\" or \"3\"\n",
    "                coupon_code=str(row['Discount']) if pd.notna(row['Discount']) else None,\n",
    "                shipping_city=\"City Placeholder\"  # Replace if you have a real city field\n",
    "            )\n",
    "            transactions.append(txn)\n",
    "        except (ValueError, TypeError, KeyError) as e:\n",
    "            print(f\"Skipping row due to error: {e}\")\n",
    "            continue\n",
    "    \n",
    "    return transactions\n",
    "\n",
    "transactions = load_transactions(data_path)\n"
   ]
  },
  {
   "cell_type": "markdown",
   "id": "44708f7b",
   "metadata": {},
   "source": [
    "Step 5: Quick Profiling"
   ]
  },
  {
   "cell_type": "code",
   "execution_count": 10,
   "id": "111dcec3",
   "metadata": {},
   "outputs": [
    {
     "name": "stdout",
     "output_type": "stream",
     "text": [
      "Price stats - Min: 33.00, Mean: nan, Max: 250.00\n",
      "Unique shipping cities: 1\n"
     ]
    }
   ],
   "source": [
    "prices = [txn.price for txn in transactions]\n",
    "cities = {txn.shipping_city for txn in transactions}\n",
    "\n",
    "print(f\"Price stats - Min: {min(prices):.2f}, Mean: {sum(prices)/len(prices):.2f}, Max: {max(prices):.2f}\")\n",
    "print(f\"Unique shipping cities: {len(cities)}\")\n"
   ]
  },
  {
   "cell_type": "markdown",
   "id": "ea4e5fa5",
   "metadata": {},
   "source": [
    "Identified dirty data cases:\n",
    "\n",
    "1. Negative or zero prices and quantities.\n",
    "2. Missing or malformed dates.\n",
    "3. Empty or inconsistent coupon codes.\n",
    "4. Inconsistent city name formatting (e.g., \" new york\", \"New York \").\n"
   ]
  },
  {
   "cell_type": "code",
   "execution_count": 11,
   "id": "d0fae297",
   "metadata": {},
   "outputs": [
    {
     "name": "stdout",
     "output_type": "stream",
     "text": [
      "Dirty records before cleaning: 0\n",
      "Dirty records after cleaning: 0\n"
     ]
    }
   ],
   "source": [
    "# Before cleaning count\n",
    "dirty_count = sum(1 for txn in transactions if txn.price <= 0 or txn.quantity <= 0 or txn.date is None)\n",
    "print(f\"Dirty records before cleaning: {dirty_count}\")\n",
    "\n",
    "# Clean all transactions\n",
    "for txn in transactions:\n",
    "    txn.clean()\n",
    "\n",
    "# After cleaning count\n",
    "dirty_count_after = sum(1 for txn in transactions if txn.price <= 0 or txn.quantity <= 0 or txn.date is None)\n",
    "print(f\"Dirty records after cleaning: {dirty_count_after}\")\n"
   ]
  },
  {
   "cell_type": "code",
   "execution_count": 12,
   "id": "a3757e10",
   "metadata": {},
   "outputs": [],
   "source": [
    "def parse_coupon(coupon_code: Optional[str]) -> float:\n",
    "    # Example: coupon code \"SAVE10\" means 10% discount\n",
    "    if coupon_code and coupon_code.startswith(\"SAVE\"):\n",
    "        try:\n",
    "            return float(coupon_code[4:]) / 100\n",
    "        except:\n",
    "            return 0.0\n",
    "    return 0.0\n",
    "\n",
    "for txn in transactions:\n",
    "    txn.discount = parse_coupon(txn.coupon_code)\n"
   ]
  },
  {
   "cell_type": "code",
   "execution_count": 13,
   "id": "2ea38e3f",
   "metadata": {},
   "outputs": [],
   "source": [
    "from datetime import datetime\n",
    "\n",
    "reference_date = datetime.now()\n",
    "\n",
    "for txn in transactions:\n",
    "    if txn.date:\n",
    "        txn.days_since_purchase = (reference_date - txn.date).days\n",
    "    else:\n",
    "        txn.days_since_purchase = None\n"
   ]
  },
  {
   "cell_type": "code",
   "execution_count": 15,
   "id": "5a99a3f4",
   "metadata": {},
   "outputs": [
    {
     "name": "stdout",
     "output_type": "stream",
     "text": [
      "City Placeholder: $nan\n"
     ]
    }
   ],
   "source": [
    "from collections import defaultdict\n",
    "import math\n",
    "\n",
    "revenue_per_city = defaultdict(float)\n",
    "\n",
    "for txn in transactions:\n",
    "    city = txn.shipping_city\n",
    "    # Check if city is not None or nan\n",
    "    if city and not (isinstance(city, float) and math.isnan(city)):\n",
    "        total = txn.total_price() * (1 - txn.discount)\n",
    "        revenue_per_city[city] += total\n",
    "\n",
    "# Print the revenue per city\n",
    "for city, revenue in revenue_per_city.items():\n",
    "    print(f\"{city}: ${revenue:.2f}\")\n"
   ]
  },
  {
   "cell_type": "code",
   "execution_count": null,
   "id": "47cc1d08",
   "metadata": {},
   "outputs": [],
   "source": [
    "import json\n",
    "import pyarrow.parquet as pq\n",
    "import pyarrow as pa\n",
    "\n",
    "# Save cleaned data to JSON\n",
    "json_path = \"data/cleaned_transactions.json\"\n",
    "with open(json_path, \"w\") as f:\n",
    "    json.dump([txn.__dict__ for txn in transactions], f, default=str)\n",
    "\n",
    "# Save cleaned data to Parquet using pandas intermediary\n",
    "df_cleaned = pd.DataFrame([txn.__dict__ for txn in transactions])\n",
    "parquet_path = \"data/cleaned_transactions.parquet\"\n",
    "df_cleaned.to_parquet(parquet_path)\n"
   ]
  },
  {
   "cell_type": "markdown",
   "id": "f2910424",
   "metadata": {},
   "source": [
    "Using Object-Oriented Programming (OOP) simplified the data cleaning and transformation processes by encapsulating related data and behaviors in the `Transaction` class. This structure enhanced code readability and reusability, allowing individual transaction instances to clean and compute values independently. It also made bulk operations and debugging easier by isolating functionality into methods, improving maintainability and scalability.\n"
   ]
  }
 ],
 "metadata": {
  "kernelspec": {
   "display_name": "Python 3",
   "language": "python",
   "name": "python3"
  },
  "language_info": {
   "codemirror_mode": {
    "name": "ipython",
    "version": 3
   },
   "file_extension": ".py",
   "mimetype": "text/x-python",
   "name": "python",
   "nbconvert_exporter": "python",
   "pygments_lexer": "ipython3",
   "version": "3.12.6"
  }
 },
 "nbformat": 4,
 "nbformat_minor": 5
}
